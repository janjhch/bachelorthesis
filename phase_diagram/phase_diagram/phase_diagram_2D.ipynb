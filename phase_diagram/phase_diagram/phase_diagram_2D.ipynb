{
 "cells": [
  {
   "cell_type": "markdown",
   "metadata": {},
   "source": [
    "# Phase Diagram of HK and HKL Model in Two Dimensions"
   ]
  },
  {
   "cell_type": "markdown",
   "metadata": {},
   "source": [
    "## 1. Find $\\mu(\\rho)$"
   ]
  },
  {
   "cell_type": "markdown",
   "metadata": {},
   "source": [
    "### Setup"
   ]
  },
  {
   "cell_type": "code",
   "execution_count": null,
   "metadata": {},
   "outputs": [],
   "source": [
    "import numpy as np\n",
    "from scipy import integrate\n",
    "import matplotlib.pyplot as plt\n",
    "from scipy.optimize import root_scalar\n",
    "\n",
    "t = 1\n",
    "d = 2\n",
    "\n",
    "def I_1(x):\n",
    "    if np.abs(x) <= 2*t:\n",
    "        result = np.heaviside(x + 2*t, 1) - (1 / np.pi) * np.arccos(x / (2*t))\n",
    "    else:\n",
    "        result = np.heaviside(x + 2*t, 1)\n",
    "    return result\n",
    "\n",
    "def I_2(x):\n",
    "    def I_1_shifted(k):\n",
    "        return I_1(x + 2*t*np.cos(k))\n",
    "    \n",
    "    integral_value = integrate.quad(I_1_shifted, -np.pi, np.pi)\n",
    "    \n",
    "    return integral_value[0] / (2*np.pi)\n",
    "\n",
    "def rho_hk_2d(mu, U):\n",
    "    if U >= 0:\n",
    "        return I_2(mu) + I_2(mu - U)\n",
    "    elif U < 0:\n",
    "        return 2 * I_2(mu - U/2)\n",
    "\n",
    "def find_mu_of_rho_hk(rho, U):\n",
    "    bracket = (-2*t*d, U + 2*t*d) # minimal and maximal values of mu\n",
    "    func_mu = lambda mu: rho_hk_2d(mu, U) - rho\n",
    "    result = root_scalar(func_mu, bracket=bracket, method='brentq')\n",
    "\n",
    "    if result.converged:\n",
    "        return result.root\n",
    "    else:\n",
    "        raise RuntimeError(f\"Keine Nullstelle gefunden für rho={rho}\")\n",
    "\n",
    "def create_mu_list(rho_array, U):\n",
    "    mu_values = []\n",
    "    for rho_i in rho_array:\n",
    "        # print(rho_i)\n",
    "        try:\n",
    "            mu = find_mu_of_rho_hk(rho_i, U)\n",
    "            mu_values.append(mu)\n",
    "        except RuntimeError:\n",
    "            mu_values.append(np.nan)\n",
    "            print(f\"Keine Nullstelle gefunden für rho={rho_i}\")\n",
    "    return mu_values\n",
    "\n",
    "def one_plot(x_array, y_array,x_label, y_label, title):\n",
    "    plt.figure(dpi=100)\n",
    "    # Plot erstellen\n",
    "    plt.plot(x_array, y_array, linestyle='-')\n",
    "    \n",
    "    # Achsenbeschriftungen und Titel\n",
    "    plt.xlabel(x_label)\n",
    "    plt.ylabel(y_label)\n",
    "    plt.grid(True)\n",
    "    plt.title(title)\n",
    "    plt.show()"
   ]
  },
  {
   "cell_type": "markdown",
   "metadata": {},
   "source": [
    "#### Testing Setup"
   ]
  },
  {
   "cell_type": "code",
   "execution_count": null,
   "metadata": {},
   "outputs": [],
   "source": [
    "rho_values = np.linspace(0, 2, 500, endpoint=False)\n",
    "\n",
    "mu_values = create_mu_list(rho_values, 14)\n",
    "\n",
    "one_plot(rho_values, mu_values, '','','')"
   ]
  },
  {
   "cell_type": "markdown",
   "metadata": {},
   "source": [
    "## 2. Find $U_c(\\rho)$"
   ]
  },
  {
   "cell_type": "code",
   "execution_count": null,
   "metadata": {},
   "outputs": [],
   "source": [
    "def find_U_c_of_rho(rho):\n",
    "    if rho <= 1:\n",
    "        func_U = lambda U: find_mu_of_rho_hk(rho, U) + 2*t - U\n",
    "        result = root_scalar(func_U, bracket=(0, 2*t*d), method='bisect')\n",
    "    elif rho > 1:\n",
    "        func_U = lambda U: find_mu_of_rho_hk(rho, U) - 2*t\n",
    "        result = root_scalar(func_U, bracket=(0, 2*t*d), method='bisect')\n",
    "\n",
    "    if result.converged:\n",
    "        return result.root\n",
    "    else:\n",
    "        print(result.flag)\n",
    "        raise RuntimeError(f\"Keine Nullstelle gefunden für rho={rho}\")\n",
    "    \n",
    "\n",
    "\n",
    "    \n",
    "\n"
   ]
  }
 ],
 "metadata": {
  "kernelspec": {
   "display_name": "base",
   "language": "python",
   "name": "python3"
  },
  "language_info": {
   "codemirror_mode": {
    "name": "ipython",
    "version": 3
   },
   "file_extension": ".py",
   "mimetype": "text/x-python",
   "name": "python",
   "nbconvert_exporter": "python",
   "pygments_lexer": "ipython3",
   "version": "3.12.2"
  }
 },
 "nbformat": 4,
 "nbformat_minor": 2
}
