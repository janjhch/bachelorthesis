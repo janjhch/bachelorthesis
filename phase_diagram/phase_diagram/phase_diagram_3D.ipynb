{
 "cells": [
  {
   "cell_type": "markdown",
   "id": "e8f73047",
   "metadata": {},
   "source": [
    "# Phase Diagram in 3D"
   ]
  }
 ],
 "metadata": {
  "language_info": {
   "name": "python"
  }
 },
 "nbformat": 4,
 "nbformat_minor": 5
}
