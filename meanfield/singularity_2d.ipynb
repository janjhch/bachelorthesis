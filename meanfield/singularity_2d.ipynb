{
 "cells": [
  {
   "cell_type": "markdown",
   "id": "f243c5a3",
   "metadata": {},
   "source": [
    "# Resolving the Singularity in 2D"
   ]
  },
  {
   "cell_type": "code",
   "execution_count": null,
   "id": "6ad8102d",
   "metadata": {},
   "outputs": [],
   "source": []
  }
 ],
 "metadata": {
  "kernelspec": {
   "display_name": "Python 3",
   "language": "python",
   "name": "python3"
  },
  "language_info": {
   "name": "python",
   "version": "3.12.3"
  }
 },
 "nbformat": 4,
 "nbformat_minor": 5
}
