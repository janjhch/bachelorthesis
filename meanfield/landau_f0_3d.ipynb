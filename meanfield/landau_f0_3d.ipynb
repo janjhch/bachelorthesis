{
 "cells": [
  {
   "cell_type": "markdown",
   "id": "751efff6",
   "metadata": {},
   "source": [
    "# HKL Model in 3D"
   ]
  }
 ],
 "metadata": {
  "language_info": {
   "name": "python"
  }
 },
 "nbformat": 4,
 "nbformat_minor": 5
}
