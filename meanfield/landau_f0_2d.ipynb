{
 "cells": [
  {
   "cell_type": "markdown",
   "id": "1db54b66a71aa4c4",
   "metadata": {},
   "source": [
    "# HKL Model In 2 Dimensions"
   ]
  },
  {
   "cell_type": "markdown",
   "id": "c4210c5e",
   "metadata": {},
   "source": [
    "## 1. Density / Chemical Potential"
   ]
  },
  {
   "cell_type": "markdown",
   "id": "38f6b49a",
   "metadata": {},
   "source": [
    "### Setup"
   ]
  },
  {
   "cell_type": "code",
   "execution_count": 1,
   "id": "initial_id",
   "metadata": {
    "ExecuteTime": {
     "end_time": "2025-07-30T12:49:56.611732Z",
     "start_time": "2025-07-30T12:49:53.219013Z"
    },
    "collapsed": true
   },
   "outputs": [],
   "source": [
    "import numpy as np\n",
    "from scipy import integrate\n",
    "import matplotlib.pyplot as plt\n",
    "from scipy.optimize import root_scalar\n",
    "\n",
    "t = 1\n",
    "d = 2\n",
    "\n",
    "def I_1(x):\n",
    "    if np.abs(x) <= 2*t:\n",
    "        result = np.heaviside(x + 2*t, 1) - (1 / np.pi) * np.arccos(x / (2*t))\n",
    "    else:\n",
    "        result = np.heaviside(x + 2*t, 1)\n",
    "    return result\n",
    "\n",
    "def I_2(x):\n",
    "    def I_1_shifted(k):\n",
    "        return I_1(x + 2*t*np.cos(k))\n",
    "    \n",
    "    integral_value = integrate.quad(I_1_shifted, -np.pi, np.pi)\n",
    "    \n",
    "    return integral_value[0] / (2*np.pi)\n",
    "\n",
    "def rho_hk_2d(mu, U):\n",
    "    if U >= 0:\n",
    "        return I_2(mu) + I_2(mu - U)\n",
    "    elif U < 0:\n",
    "        return 2 * I_2(mu - U/2)\n",
    "    \n",
    "def one_plot(x_array, y_array,x_label, y_label, title):\n",
    "    plt.figure(dpi=100)\n",
    "    # Plot erstellen\n",
    "    plt.plot(x_array, y_array, linestyle='-')\n",
    "    \n",
    "    # Achsenbeschriftungen und Titel\n",
    "    plt.xlabel(x_label)\n",
    "    plt.ylabel(y_label)\n",
    "    plt.grid(True)\n",
    "    plt.title(title)\n",
    "    plt.show()"
   ]
  },
  {
   "cell_type": "markdown",
   "id": "4e8ddb93d091867e",
   "metadata": {},
   "source": [
    "### Finding $\\mu_{HKL}(\\rho)$"
   ]
  },
  {
   "cell_type": "code",
   "execution_count": null,
   "id": "a551ec5cab5b6086",
   "metadata": {
    "ExecuteTime": {
     "end_time": "2025-07-30T12:51:19.663415Z",
     "start_time": "2025-07-30T12:49:56.699311Z"
    }
   },
   "outputs": [],
   "source": [
    "def find_mu_of_rho_landau(rho, U, f_0):\n",
    "    bracket = (-2*t*d, U + 2*t*d + 2*f_0) # minimal and maximal values of mu\n",
    "    func_mu = lambda mu: rho_hk_2d(mu - f_0*rho, U) - rho\n",
    "    result = root_scalar(func_mu, bracket=bracket, method='brentq')\n",
    "\n",
    "    if result.converged:\n",
    "        return result.root\n",
    "    else:\n",
    "        raise RuntimeError(f\"Keine Nullstelle gefunden für rho={rho}\")\n",
    "    \n",
    "rho_values = np.linspace(0, 2, 1000, endpoint=False)\n",
    "\n",
    "def create_mu_list(rho_array, U, f_0):\n",
    "    mu_values = []\n",
    "    for rho_i in rho_array:\n",
    "        print(rho_i)\n",
    "        try:\n",
    "            mu = find_mu_of_rho_landau(rho_i, U, f_0)\n",
    "            mu_values.append(mu)\n",
    "        except RuntimeError:\n",
    "            mu_values.append(np.nan)\n",
    "            print(f\"Keine Nullstelle gefunden für rho={rho_i}\")\n",
    "    return mu_values\n",
    "\n",
    "mu_U_14_f0_0 = create_mu_list(rho_values, 14, 0)\n",
    "mu_U_14_f0_8 = create_mu_list(rho_values, 14, 8)\n",
    "        \n",
    "one_plot(rho_values, mu_U_14_f0_0, r'$\\rho$', r'$\\mu$', r'$f_0 = 0$')\n",
    "one_plot(rho_values, mu_U_14_f0_8, r'$\\rho$', r'$\\mu$', r'$f_0 = 8$')\n",
    "\n",
    "    "
   ]
  },
  {
   "cell_type": "code",
   "execution_count": 3,
   "id": "687b07a7",
   "metadata": {
    "ExecuteTime": {
     "end_time": "2025-07-30T12:51:19.992562Z",
     "start_time": "2025-07-30T12:51:19.685414Z"
    }
   },
   "outputs": [
    {
     "data": {
      "image/png": "[encoded data removed]",
      "text/plain": [
       "<Figure size 640x480 with 1 Axes>"
      ]
     },
     "metadata": {},
     "output_type": "display_data"
    }
   ],
   "source": [
    "one_plot(mu_U_14_f0_0, rho_values, r'$\\mu$', r'$\\rho$', r'$f_0 = 0$')\n",
    "#one_plot(mu_U_14_f0_8, rho_values, r'$\\mu$', r'$\\rho$', r'$f_0 = 8$')"
   ]
  },
  {
   "cell_type": "markdown",
   "id": "6b8e8ea5",
   "metadata": {},
   "source": [
    "### Reset: Take mu array as base, calculate $\\rho(\\mu)$"
   ]
  },
  {
   "cell_type": "code",
   "execution_count": 10,
   "id": "d463b9dc",
   "metadata": {},
   "outputs": [],
   "source": [
    "def find_rho_of_mu_landau(mu, U, f_0):\n",
    "    bracket = (0, 2) # minimal and maximal values of rho\n",
    "    func_mu = lambda rho: rho_hk_2d(mu - f_0*rho, U) - rho\n",
    "    result = root_scalar(func_mu, bracket=bracket, method='brentq')\n",
    "\n",
    "    if result.converged:\n",
    "        return result.root\n",
    "    else:\n",
    "        raise RuntimeError(f\"Keine Nullstelle gefunden für mu={mu}\")\n",
    "\n",
    "def create_mu_and_rho_arrays_landau(U, f_0, N):\n",
    "    mu_array = np.linspace(-2*t*d, 2*t*d + U + 2*f_0, N)\n",
    "    rho_list = []\n",
    "\n",
    "    for mu_i in mu_array:\n",
    "        rho_i = find_rho_of_mu_landau(mu_i, U, f_0)\n",
    "        rho_list.append(rho_i)\n",
    "\n",
    "    rho_array = np.array(rho_list)\n",
    "\n",
    "    return mu_array, rho_array\n",
    "\n"
   ]
  },
  {
   "cell_type": "markdown",
   "id": "18cea8be",
   "metadata": {},
   "source": [
    "## 2. Compressibility"
   ]
  },
  {
   "cell_type": "code",
   "execution_count": 8,
   "id": "cf22f9c2af788cb7",
   "metadata": {
    "ExecuteTime": {
     "end_time": "2025-07-30T12:52:21.241528Z",
     "start_time": "2025-07-30T12:52:13.252713Z"
    }
   },
   "outputs": [
    {
     "name": "stderr",
     "output_type": "stream",
     "text": [
      "/var/folders/6g/kfvfxvvs2473z8z47g0kr34w0000gn/T/ipykernel_5151/397909118.py:9: IntegrationWarning: The maximum number of subdivisions (50) has been achieved.\n",
      "  If increasing the limit yields no improvement it is advised to analyze \n",
      "  the integrand in order to determine the difficulties.  If the position of a \n",
      "  local difficulty can be determined (singularity, discontinuity) one will \n",
      "  probably gain from splitting up the interval and calling the integrator \n",
      "  on the subranges.  Perhaps a special-purpose integrator should be used.\n",
      "  int_value = integrate.quad(integrand_DOS_2d, 0, np.pi)\n",
      "/var/folders/6g/kfvfxvvs2473z8z47g0kr34w0000gn/T/ipykernel_5151/397909118.py:9: IntegrationWarning: Extremely bad integrand behavior occurs at some points of the\n",
      "  integration interval.\n",
      "  int_value = integrate.quad(integrand_DOS_2d, 0, np.pi)\n"
     ]
    }
   ],
   "source": [
    "def DOS_HK_2D(E):\n",
    "    def integrand_DOS_2d(k):\n",
    "       if -1 < E/(2*t) + np.cos(k) < 1:\n",
    "            integrand = 1 / np.sqrt(1 - (E/(2*t) + np.cos(k))**2)\n",
    "            return integrand\n",
    "       else:\n",
    "            return 0\n",
    "       \n",
    "    int_value = integrate.quad(integrand_DOS_2d, 0, np.pi)\n",
    "    full_DOS = int_value[0] / (2 * np.pi**2 * t)\n",
    "    return full_DOS\n",
    "\n",
    "# CHECK FACTOR 1/2!\n",
    "def kappa_hk_2d(mu, U):\n",
    "    if U >= 0:\n",
    "        return (DOS_HK_2D(mu) + DOS_HK_2D(mu - U)) / 2\n",
    "    else:\n",
    "        return DOS_HK_2D(mu - U/2)\n",
    "    \n",
    "def kappa_landau_2d(rho, mu, U, f_0):\n",
    "    kappa_hk_renorm = kappa_hk_2d(mu - f_0 * rho, U)\n",
    "    return kappa_hk_renorm / (1 + f_0 * kappa_hk_renorm)\n",
    "    \n",
    "\n",
    "def create_kappa_list(rho_array, mu_array, U, f_0):\n",
    "    length = len(rho_array)\n",
    "    kappa_list = []\n",
    "\n",
    "    for i in range(length):\n",
    "#        print(rho_array[i])\n",
    "        try:\n",
    "            kappa_i = kappa_landau_2d(rho_array[i], mu_array[i], U, f_0)\n",
    "            kappa_list.append(kappa_i)\n",
    "        except RuntimeError:\n",
    "            kappa_list.append(np.nan)\n",
    "\n",
    "    return kappa_list\n",
    "\n",
    "def create_kappa_hk_list(mu_array, U):\n",
    "    kappa_list = []\n",
    "\n",
    "    for mu_i in mu_array:\n",
    "#        print(rho_array[i])\n",
    "        try:\n",
    "            kappa_i = kappa_hk_2d(mu_i, U)\n",
    "            kappa_list.append(kappa_i)\n",
    "        except RuntimeError:\n",
    "            kappa_list.append(np.nan)\n",
    "\n",
    "    return kappa_list\n",
    "\n",
    "kappa_U14_f0 = create_kappa_hk_list(mu_U_14_f0_0, 14)"
   ]
  },
  {
   "cell_type": "code",
   "execution_count": 9,
   "id": "1da82ece",
   "metadata": {
    "ExecuteTime": {
     "end_time": "2025-07-30T12:52:23.063313Z",
     "start_time": "2025-07-30T12:52:22.772738Z"
    }
   },
   "outputs": [
    {
     "data": {
      "image/png": "[encoded data removed]",
      "text/plain": [
       "<Figure size 640x480 with 1 Axes>"
      ]
     },
     "metadata": {},
     "output_type": "display_data"
    }
   ],
   "source": [
    "#one_plot(rho_values[1:], kappa_U14_f0[1:], r'$\\rho$', r'$\\kappa$', r'$f_0 = 0$')\n",
    "one_plot(mu_U_14_f0_0[1:], kappa_U14_f0[1:], r'$\\mu$', r'$\\kappa$', r'$f_0 = 0$')"
   ]
  },
  {
   "cell_type": "markdown",
   "id": "ca166a38",
   "metadata": {},
   "source": [
    "Grund: Habe rho array vorgegeben, nicht mu array. bei rho=1 wird nur ein mu wert zugeordnet (1to1), wenn ich mu array vorgebe, werden vielen mus rho=1 zugeordnet"
   ]
  },
  {
   "cell_type": "code",
   "execution_count": null,
   "id": "8404344f",
   "metadata": {
    "ExecuteTime": {
     "end_time": "2025-07-30T12:51:31.643312Z",
     "start_time": "2025-07-30T12:51:31.639460Z"
    }
   },
   "outputs": [],
   "source": []
  }
 ],
 "metadata": {
  "kernelspec": {
   "display_name": "base",
   "language": "python",
   "name": "python3"
  },
  "language_info": {
   "codemirror_mode": {
    "name": "ipython",
    "version": 3
   },
   "file_extension": ".py",
   "mimetype": "text/x-python",
   "name": "python",
   "nbconvert_exporter": "python",
   "pygments_lexer": "ipython3",
   "version": "3.12.2"
  }
 },
 "nbformat": 4,
 "nbformat_minor": 5
}
