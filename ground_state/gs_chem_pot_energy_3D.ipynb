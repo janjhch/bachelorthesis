{
 "cells": [
  {
   "cell_type": "markdown",
   "id": "cef4ab50",
   "metadata": {},
   "source": [
    "# HK Model in 3D"
   ]
  },
  {
   "cell_type": "markdown",
   "id": "2ab1dfc7",
   "metadata": {},
   "source": [
    "## 1. Setup"
   ]
  },
  {
   "cell_type": "code",
   "execution_count": null,
   "id": "46f0c6ed",
   "metadata": {},
   "outputs": [],
   "source": [
    "import numpy as np\n",
    "from scipy import integrate\n",
    "import matplotlib.pyplot as plt\n",
    "\n",
    "t = 1\n",
    "d = 3\n",
    "\n",
    "def I_1(x):\n",
    "    if np.abs(x) <= 2*t:\n",
    "        result = np.heaviside(x + 2*t, 1) - (1 / np.pi) * np.arccos(x / (2*t))\n",
    "    else:\n",
    "        result = np.heaviside(x + 2*t, 1)\n",
    "    return result\n",
    "\n",
    "def I_3(x):"
   ]
  }
 ],
 "metadata": {
  "kernelspec": {
   "display_name": "Python 3",
   "language": "python",
   "name": "python3"
  },
  "language_info": {
   "name": "python",
   "version": "3.12.3"
  }
 },
 "nbformat": 4,
 "nbformat_minor": 5
}
