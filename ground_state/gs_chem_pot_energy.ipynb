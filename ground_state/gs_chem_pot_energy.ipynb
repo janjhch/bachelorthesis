{
 "cells": [
  {
   "cell_type": "markdown",
   "id": "f9d3447aa3d5787a",
   "metadata": {},
   "source": [
    "# Ground State Chemical Potential and Energy"
   ]
  },
  {
   "cell_type": "markdown",
   "id": "6c50ab2c0a1ac9a8",
   "metadata": {},
   "source": [
    "## 1. Chemical Potential as a function of the Density in 1D"
   ]
  },
  {
   "cell_type": "markdown",
   "id": "73c3b5571261da45",
   "metadata": {},
   "source": [
    "### 1.1 Set up"
   ]
  },
  {
   "cell_type": "code",
   "id": "5a0a2b17b887de50",
   "metadata": {},
   "source": [
    "import numpy as np\n",
    "import matplotlib.pyplot as plt\n",
    "\n",
    "def eps_k(t, k):                    # kinetic energy eigenvalues\n",
    "    return -2 * t * np.cos(k)\n",
    "\n",
    "def theta(x):                       # step function theta\n",
    "    if x < 0:\n",
    "        return 0\n",
    "    else:\n",
    "        return 1 "
   ],
   "outputs": [],
   "execution_count": null
  },
  {
   "cell_type": "markdown",
   "id": "63f4302fdfa3f1e0",
   "metadata": {},
   "source": [
    "### 1.2 Density integration and inversion"
   ]
  },
  {
   "cell_type": "markdown",
   "id": "908f949d2187c115",
   "metadata": {},
   "source": [
    "#### 1.2.1 Functions to execute integration"
   ]
  },
  {
   "cell_type": "code",
   "id": "785bf1ef42ed6621",
   "metadata": {},
   "source": [
    "# define the integrand of the integration for the density\n",
    "def rho_integrand(U, t, k, mu):\n",
    "    if U >= 0:\n",
    "        return (theta(mu - eps_k(t, k)) + theta(mu - eps_k(t, k) - U)) / (2 * np.pi)\n",
    "    elif U < 0:\n",
    "        return (2 * theta(mu - eps_k(t, k) - (U / 2))) / (2 * np.pi)\n",
    "\n",
    "def find_values_for_rho(U, t, no_of_points, integration_points, mu_array):\n",
    "    # define the integration space [-pi, pi]\n",
    "    k_array = np.linspace(-np.pi, np.pi, integration_points)\n",
    "\n",
    "    # define the array in which the values for rho will be stored in, this will be the return value\n",
    "    rho_array = np.empty(no_of_points)  \n",
    "  \n",
    "    # calculate the integral (4.7) for all values in mu_array\n",
    "    for i in range(no_of_points):\n",
    "        # calculate the integrand for the given mu\n",
    "        integrand = np.empty(integration_points)\n",
    "        for k_index in range(integration_points):\n",
    "            integrand[k_index] = rho_integrand(U, t, k_array[k_index], mu_array[i])\n",
    "        \n",
    "        # calculate the integral to find the rho that corresponds to the chosen mu in mu_index\n",
    "        rho_array[i] = np.trapezoid(integrand, k_array)\n",
    "        \n",
    "    return rho_array"
   ],
   "outputs": [],
   "execution_count": null
  },
  {
   "cell_type": "markdown",
   "id": "4ee6eceb0bd726b6",
   "metadata": {},
   "source": [
    "#### 1.2.2 Execution of integration"
   ]
  },
  {
   "cell_type": "markdown",
   "id": "56b7ab995e2e0c55",
   "metadata": {},
   "source": [
    "##### U = t case"
   ]
  },
  {
   "cell_type": "code",
   "id": "e31777ad0b63405f",
   "metadata": {},
   "source": [
    "# Hamiltonian constants\n",
    "t = 1   # hopping integral\n",
    "U = t   # interaction energy\n",
    "\n",
    "# Numerical constants\n",
    "no_of_points = 1000           # Number of points to evaluate mu and rho at\n",
    "integration_point = 1000     # Number of points to execute integration for\n",
    "\n",
    "# Create values for chemical potential  \n",
    "mu_array = np.linspace(-2, 3, no_of_points)   \n",
    "# Calculate corresponding values for the density\n",
    "rho_array = find_values_for_rho(U, t, no_of_points, integration_point, mu_array)"
   ],
   "outputs": [],
   "execution_count": null
  },
  {
   "cell_type": "markdown",
   "id": "de331ac40a26941d",
   "metadata": {},
   "source": [
    "##### U = 8t case"
   ]
  },
  {
   "cell_type": "code",
   "id": "e0458a4de6d8e817",
   "metadata": {},
   "source": [
    "# Create values for chemical potential  \n",
    "mu_array_8t = np.linspace(-2, 10, no_of_points)   \n",
    "# Calculate corresponding values for the density\n",
    "rho_array_8t = find_values_for_rho(8 * U, t, no_of_points, integration_point, mu_array_8t)"
   ],
   "outputs": [],
   "execution_count": null
  },
  {
   "cell_type": "markdown",
   "id": "b98223cf",
   "metadata": {},
   "source": [
    "#### U = -t case"
   ]
  },
  {
   "cell_type": "code",
   "id": "3ed28f62",
   "metadata": {},
   "source": [
    "# Create values for chemical potential  \n",
    "mu_array_neg = np.linspace(-2, 6, no_of_points)   \n",
    "# Calculate corresponding values for the density\n",
    "rho_array_neg = find_values_for_rho(4*U, t, no_of_points, integration_point, mu_array_neg)"
   ],
   "outputs": [],
   "execution_count": null
  },
  {
   "metadata": {},
   "cell_type": "code",
   "source": [
    "def rho_ana_hk(U, t, mu):\n",
    "    return 2 - ((np.heaviside((mu - U)/(2*t), 1.0) - np.heaviside((mu - U)/(2*t) - 1, 1.0)) * np.arccos((mu - U)/(2*t)) \n",
    "                 + (np.heaviside(mu/(2*t), 1.0) - np.heaviside(mu/(2*t) - 1, 1.0)) * np.arccos(mu/(2*t)))/ np.pi\n",
    "\n",
    "\n",
    "def rho_ana_me(U, t, mu):\n",
    "    return (np.heaviside(mu - 2*t, 1.0) + np.heaviside(mu - U - 2*t, 1.0) \n",
    "            + 2 * t * ((np.heaviside((mu - U)/(2*t) + 1, 1.0) - np.heaviside((mu - U)/(2*t) - 1, 1.0)) \n",
    "                       * np.arccos(-(mu - U)/(2*t)) \n",
    "                       + (np.heaviside((mu)/(2*t) + 1, 1.0) - np.heaviside((mu)/(2*t) - 1, 1.0)) \n",
    "                       * np.arccos(-mu/(2*t))) / np.pi)"
   ],
   "id": "9d11cb80dcbbb049",
   "outputs": [],
   "execution_count": null
  },
  {
   "cell_type": "markdown",
   "id": "f51d5b6f568c9105",
   "metadata": {},
   "source": [
    "### 1.3 Plotting"
   ]
  },
  {
   "cell_type": "code",
   "id": "b39ab62bc1f12761",
   "metadata": {},
   "source": [
    "def one_plot(x_array, y_array, y_label, title):\n",
    "    plt.figure(dpi=200)\n",
    "    # Plot erstellen\n",
    "    plt.plot(x_array, y_array, linestyle='-')\n",
    "    \n",
    "    # Achsenbeschriftungen und Titel\n",
    "    plt.xlabel(r'$\\rho$')\n",
    "    plt.ylabel(y_label)\n",
    "    plt.title(title)\n",
    "    plt.show()\n",
    "    \n",
    "def two_plots(x_array_1, x_array_2, y_array_1, y_array_2, title, title_1, title_2, y_label):\n",
    "    # Create side-by-side subplots\n",
    "    fig, axes = plt.subplots(nrows=1, ncols=2, figsize=(10, 4), dpi=200)\n",
    "    plt.style.use('seaborn-v0_8-pastel')\n",
    "    \n",
    "    # Plot 1\n",
    "    axes[0].plot(x_array_1, y_array_1)\n",
    "    axes[0].set_title(title_1)\n",
    "    axes[0].set_xlabel(r'$\\rho$')\n",
    "    axes[0].set_ylabel(y_label)\n",
    "    axes[0].grid(True)\n",
    "    \n",
    "    # Plot 2\n",
    "    axes[1].plot(x_array_2, y_array_2)\n",
    "    axes[1].set_title(title_2)\n",
    "    axes[1].set_xlabel(r'$\\rho$')\n",
    "    axes[1].set_ylabel(y_label)\n",
    "    axes[1].grid(True)\n",
    "    \n",
    "    fig.suptitle(title, weight='bold')\n",
    "    \n",
    "    # Layout adjustment\n",
    "    plt.tight_layout()\n",
    "    plt.subplots_adjust(wspace=0.2)  # increase this value for more space\n",
    "    plt.show()\n",
    "    \n",
    "def both_graphs_in_one(x_array_1, x_array_2, y_array_1, y_array_2, title_1, y_label):\n",
    "    plt.figure(dpi=200)\n",
    "    plt.style.use('seaborn-v0_8-muted')\n",
    "    \n",
    "    # Plot erstellen\n",
    "    plt.plot(x_array_1, y_array_1, linestyle='-', label=r'$U = t$')\n",
    "    plt.plot(x_array_2, y_array_2, linestyle='-', label=r'$U = 8t$')\n",
    "    \n",
    "    # Achsenbeschriftungen und Titel\n",
    "    plt.xlabel(r'$\\rho$')\n",
    "    plt.ylabel(y_label)\n",
    "    plt.title(title_1, weight='bold')\n",
    "    plt.legend(loc='best', frameon=True, fontsize=10)\n",
    "    plt.show()\n",
    "    \n",
    "#one_plot(rho_array, mu_array, 'U = t')\n",
    "#one_plot(rho_array_8t, mu_array_8t, 'U = 8t')\n",
    "#two_plots(rho_array, rho_array_8t, mu_array, mu_array_8t,'Ground State Chemical Potential', r'$U = t$', r'$U = 8t$', r'$\\mu$')\n",
    "#both_graphs_in_one(rho_array, rho_array_8t, mu_array, mu_array_8t, \"Ground State Chemical Potential\", r'$\\mu$')\n",
    "#one_plot(rho_array_neg, mu_array_neg, r'$\\mu$', r'$U = -t$')"
   ],
   "outputs": [],
   "execution_count": null
  },
  {
   "cell_type": "markdown",
   "id": "78456575fd684186",
   "metadata": {},
   "source": [
    "# 2 Energy Density as a function of the density in 1D"
   ]
  },
  {
   "cell_type": "markdown",
   "id": "7b730007b270fb6",
   "metadata": {},
   "source": [
    "## 2.1 Energy integration and inversion"
   ]
  },
  {
   "cell_type": "code",
   "id": "130bb6a2a688da2",
   "metadata": {},
   "source": [
    "# define the integrand of the integration for the energy\n",
    "def energy_integrand(U, t, k, mu):\n",
    "    if U >= 0:\n",
    "        return (eps_k(t, k) * theta(mu - eps_k(t, k)) + ((eps_k(t, k) + U) * theta(mu - eps_k(t, k) - U))) / (2 * np.pi)\n",
    "    elif U < 0:\n",
    "        return ((2 * eps_k(t, k) + U) * theta(mu - eps_k(t, k) - (U / 2))) / (2 * np.pi)\n",
    "    \n",
    "def find_values_for_energy(U, t, no_of_points, integration_points, mu_array):\n",
    "    # define the integration space [-pi, pi]\n",
    "    k_array = np.linspace(-np.pi, np.pi, integration_points)\n",
    "\n",
    "    # define the array in which the values for rho will be stored in, this will be the return value\n",
    "    energy_array = np.empty(no_of_points)  \n",
    "  \n",
    "    # calculate the integral (4.7) for all values in mu_array\n",
    "    for i in range(no_of_points):\n",
    "        # calculate the integrand for the given mu\n",
    "        integrand = np.empty(integration_points)\n",
    "        for k_index in range(integration_points):\n",
    "            integrand[k_index] = energy_integrand(U, t, k_array[k_index], mu_array[i])\n",
    "        \n",
    "        # calculate the integral to find the rho that corresponds to the chosen mu in mu_index\n",
    "        energy_array[i] = np.trapezoid(integrand, k_array)\n",
    "        \n",
    "    return energy_array, integrand"
   ],
   "outputs": [],
   "execution_count": null
  },
  {
   "cell_type": "markdown",
   "id": "a49f5e6672ef6557",
   "metadata": {},
   "source": [
    "### 2.1.1 Integration execution & Plotting"
   ]
  },
  {
   "cell_type": "code",
   "id": "cd6c01ab226afa0a",
   "metadata": {},
   "source": [
    "energy_array, integrand_array = find_values_for_energy(U, t, no_of_points, integration_point, mu_array)\n",
    "energy_array_8t, integrand_array_8t = find_values_for_energy(8 * U, t, no_of_points, integration_point, mu_array_8t)\n",
    "energy_array_neg, integrand_array_neg = find_values_for_energy(-U, t, no_of_points, integration_point, mu_array_neg)"
   ],
   "outputs": [],
   "execution_count": null
  },
  {
   "cell_type": "code",
   "id": "baabf8c93cf8652b",
   "metadata": {},
   "source": [
    "#two_plots(rho_array, rho_array_8t, integrand_array, integrand_array_8t, r'$U = t$', r'$U = 8t$', r'Integrand of $e$')"
   ],
   "outputs": [],
   "execution_count": null
  },
  {
   "cell_type": "code",
   "id": "eb89b4c85b55dd21",
   "metadata": {},
   "source": [
    "two_plots(rho_array, rho_array_8t, energy_array, energy_array_8t, 'Ground State Energy Density', r'$U = t$', r'$U = 8t$', r'$e$')\n",
    "both_graphs_in_one(rho_array, rho_array_8t, energy_array, energy_array_8t, 'Ground State Energy Density', r'$e$')\n",
    "one_plot(rho_array_neg, energy_array_neg, r'$e$', r'$U = -t$')"
   ],
   "outputs": [],
   "execution_count": null
  }
 ],
 "metadata": {
  "kernelspec": {
   "display_name": "base",
   "language": "python",
   "name": "python3"
  },
  "language_info": {
   "codemirror_mode": {
    "name": "ipython",
    "version": 3
   },
   "file_extension": ".py",
   "mimetype": "text/x-python",
   "name": "python",
   "nbconvert_exporter": "python",
   "pygments_lexer": "ipython3",
   "version": "3.12.2"
  }
 },
 "nbformat": 4,
 "nbformat_minor": 5
}
